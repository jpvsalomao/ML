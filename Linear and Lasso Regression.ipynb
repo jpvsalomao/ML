{
 "cells": [
  {
   "cell_type": "code",
   "execution_count": 2,
   "id": "21e8fbfe",
   "metadata": {},
   "outputs": [],
   "source": [
    "import pandas as pd\n",
    "import numpy as np\n",
    "import matplotlib.pyplot as plt\n",
    "import pandas as pd\n",
    "import seaborn as sns\n",
    "\n",
    "from sklearn import linear_model\n",
    "from sklearn.linear_model import LinearRegression\n",
    "from sklearn.model_selection import train_test_split\n",
    "from sklearn.preprocessing import StandardScaler\n",
    "from sklearn.linear_model import LassoLarsIC\n",
    "from sklearn.pipeline import make_pipeline\n",
    "from sklearn.linear_model import Lasso\n",
    "from sklearn.model_selection import KFold\n",
    "from sklearn.model_selection import cross_val_score\n",
    "from sklearn.metrics import mean_squared_error\n",
    "from math import log"
   ]
  },
  {
   "cell_type": "code",
   "execution_count": 4,
   "id": "d806f0cf",
   "metadata": {},
   "outputs": [
    {
     "data": {
      "text/html": [
       "<div>\n",
       "<style scoped>\n",
       "    .dataframe tbody tr th:only-of-type {\n",
       "        vertical-align: middle;\n",
       "    }\n",
       "\n",
       "    .dataframe tbody tr th {\n",
       "        vertical-align: top;\n",
       "    }\n",
       "\n",
       "    .dataframe thead th {\n",
       "        text-align: right;\n",
       "    }\n",
       "</style>\n",
       "<table border=\"1\" class=\"dataframe\">\n",
       "  <thead>\n",
       "    <tr style=\"text-align: right;\">\n",
       "      <th></th>\n",
       "      <th>Unnamed: 0</th>\n",
       "      <th>mpg</th>\n",
       "      <th>cylinders</th>\n",
       "      <th>displacement</th>\n",
       "      <th>horsepower</th>\n",
       "      <th>weight</th>\n",
       "      <th>acceleration</th>\n",
       "      <th>model year</th>\n",
       "      <th>origin</th>\n",
       "    </tr>\n",
       "  </thead>\n",
       "  <tbody>\n",
       "    <tr>\n",
       "      <th>0</th>\n",
       "      <td>0</td>\n",
       "      <td>18.0</td>\n",
       "      <td>8</td>\n",
       "      <td>307.0</td>\n",
       "      <td>130.0</td>\n",
       "      <td>3504</td>\n",
       "      <td>12.0</td>\n",
       "      <td>70</td>\n",
       "      <td>1</td>\n",
       "    </tr>\n",
       "    <tr>\n",
       "      <th>1</th>\n",
       "      <td>1</td>\n",
       "      <td>15.0</td>\n",
       "      <td>8</td>\n",
       "      <td>350.0</td>\n",
       "      <td>165.0</td>\n",
       "      <td>3693</td>\n",
       "      <td>11.5</td>\n",
       "      <td>70</td>\n",
       "      <td>1</td>\n",
       "    </tr>\n",
       "    <tr>\n",
       "      <th>2</th>\n",
       "      <td>2</td>\n",
       "      <td>18.0</td>\n",
       "      <td>8</td>\n",
       "      <td>318.0</td>\n",
       "      <td>150.0</td>\n",
       "      <td>3436</td>\n",
       "      <td>11.0</td>\n",
       "      <td>70</td>\n",
       "      <td>1</td>\n",
       "    </tr>\n",
       "    <tr>\n",
       "      <th>3</th>\n",
       "      <td>3</td>\n",
       "      <td>16.0</td>\n",
       "      <td>8</td>\n",
       "      <td>304.0</td>\n",
       "      <td>150.0</td>\n",
       "      <td>3433</td>\n",
       "      <td>12.0</td>\n",
       "      <td>70</td>\n",
       "      <td>1</td>\n",
       "    </tr>\n",
       "    <tr>\n",
       "      <th>4</th>\n",
       "      <td>4</td>\n",
       "      <td>17.0</td>\n",
       "      <td>8</td>\n",
       "      <td>302.0</td>\n",
       "      <td>140.0</td>\n",
       "      <td>3449</td>\n",
       "      <td>10.5</td>\n",
       "      <td>70</td>\n",
       "      <td>1</td>\n",
       "    </tr>\n",
       "  </tbody>\n",
       "</table>\n",
       "</div>"
      ],
      "text/plain": [
       "   Unnamed: 0   mpg  cylinders  displacement  horsepower  weight  \\\n",
       "0           0  18.0          8         307.0       130.0    3504   \n",
       "1           1  15.0          8         350.0       165.0    3693   \n",
       "2           2  18.0          8         318.0       150.0    3436   \n",
       "3           3  16.0          8         304.0       150.0    3433   \n",
       "4           4  17.0          8         302.0       140.0    3449   \n",
       "\n",
       "   acceleration  model year  origin  \n",
       "0          12.0          70       1  \n",
       "1          11.5          70       1  \n",
       "2          11.0          70       1  \n",
       "3          12.0          70       1  \n",
       "4          10.5          70       1  "
      ]
     },
     "execution_count": 4,
     "metadata": {},
     "output_type": "execute_result"
    }
   ],
   "source": [
    "df = pd.read_csv('/Users/joaopedro/Documents/MSBA/Classes/Winter Quarter/BAX 452 - Machine Learning/Assignments/04. Python - Lasso Regression/GitHub/cars.csv')\n",
    "\n",
    "df.head()"
   ]
  },
  {
   "cell_type": "markdown",
   "id": "c241bf09",
   "metadata": {},
   "source": [
    "## LASSO\n",
    "\n",
    "**Create Lasso regression models to predict the ‘mpg’ for a car using 20% and 80% of the training data for the 2 models.**"
   ]
  },
  {
   "cell_type": "code",
   "execution_count": 3,
   "id": "bdc0e3d4",
   "metadata": {},
   "outputs": [
    {
     "data": {
      "text/plain": [
       "Unnamed: 0      398\n",
       "mpg             129\n",
       "cylinders         5\n",
       "displacement     82\n",
       "horsepower       94\n",
       "weight          351\n",
       "acceleration     95\n",
       "model year       13\n",
       "origin            3\n",
       "dtype: int64"
      ]
     },
     "execution_count": 3,
     "metadata": {},
     "output_type": "execute_result"
    }
   ],
   "source": [
    "df.nunique()"
   ]
  },
  {
   "cell_type": "code",
   "execution_count": 4,
   "id": "4d321cd4",
   "metadata": {},
   "outputs": [
    {
     "data": {
      "text/html": [
       "<div>\n",
       "<style scoped>\n",
       "    .dataframe tbody tr th:only-of-type {\n",
       "        vertical-align: middle;\n",
       "    }\n",
       "\n",
       "    .dataframe tbody tr th {\n",
       "        vertical-align: top;\n",
       "    }\n",
       "\n",
       "    .dataframe thead th {\n",
       "        text-align: right;\n",
       "    }\n",
       "</style>\n",
       "<table border=\"1\" class=\"dataframe\">\n",
       "  <thead>\n",
       "    <tr style=\"text-align: right;\">\n",
       "      <th></th>\n",
       "      <th>mpg</th>\n",
       "      <th>cylinders</th>\n",
       "      <th>displacement</th>\n",
       "      <th>horsepower</th>\n",
       "      <th>weight</th>\n",
       "      <th>acceleration</th>\n",
       "      <th>model year</th>\n",
       "      <th>origin</th>\n",
       "    </tr>\n",
       "  </thead>\n",
       "  <tbody>\n",
       "    <tr>\n",
       "      <th>0</th>\n",
       "      <td>18.0</td>\n",
       "      <td>8</td>\n",
       "      <td>307.0</td>\n",
       "      <td>130.0</td>\n",
       "      <td>3504</td>\n",
       "      <td>12.0</td>\n",
       "      <td>70</td>\n",
       "      <td>1</td>\n",
       "    </tr>\n",
       "    <tr>\n",
       "      <th>1</th>\n",
       "      <td>15.0</td>\n",
       "      <td>8</td>\n",
       "      <td>350.0</td>\n",
       "      <td>165.0</td>\n",
       "      <td>3693</td>\n",
       "      <td>11.5</td>\n",
       "      <td>70</td>\n",
       "      <td>1</td>\n",
       "    </tr>\n",
       "    <tr>\n",
       "      <th>2</th>\n",
       "      <td>18.0</td>\n",
       "      <td>8</td>\n",
       "      <td>318.0</td>\n",
       "      <td>150.0</td>\n",
       "      <td>3436</td>\n",
       "      <td>11.0</td>\n",
       "      <td>70</td>\n",
       "      <td>1</td>\n",
       "    </tr>\n",
       "    <tr>\n",
       "      <th>3</th>\n",
       "      <td>16.0</td>\n",
       "      <td>8</td>\n",
       "      <td>304.0</td>\n",
       "      <td>150.0</td>\n",
       "      <td>3433</td>\n",
       "      <td>12.0</td>\n",
       "      <td>70</td>\n",
       "      <td>1</td>\n",
       "    </tr>\n",
       "    <tr>\n",
       "      <th>4</th>\n",
       "      <td>17.0</td>\n",
       "      <td>8</td>\n",
       "      <td>302.0</td>\n",
       "      <td>140.0</td>\n",
       "      <td>3449</td>\n",
       "      <td>10.5</td>\n",
       "      <td>70</td>\n",
       "      <td>1</td>\n",
       "    </tr>\n",
       "  </tbody>\n",
       "</table>\n",
       "</div>"
      ],
      "text/plain": [
       "    mpg  cylinders  displacement  horsepower  weight  acceleration  \\\n",
       "0  18.0          8         307.0       130.0    3504          12.0   \n",
       "1  15.0          8         350.0       165.0    3693          11.5   \n",
       "2  18.0          8         318.0       150.0    3436          11.0   \n",
       "3  16.0          8         304.0       150.0    3433          12.0   \n",
       "4  17.0          8         302.0       140.0    3449          10.5   \n",
       "\n",
       "   model year  origin  \n",
       "0          70       1  \n",
       "1          70       1  \n",
       "2          70       1  \n",
       "3          70       1  \n",
       "4          70       1  "
      ]
     },
     "execution_count": 4,
     "metadata": {},
     "output_type": "execute_result"
    }
   ],
   "source": [
    "## Cols to Use\n",
    "cols_to_use = [\"mpg\",\"cylinders\",\"displacement\",\"horsepower\",\"weight\",\"acceleration\",\"model year\",\"origin\"]\n",
    "\n",
    "df = df[cols_to_use]\n",
    "\n",
    "df.head()"
   ]
  },
  {
   "cell_type": "code",
   "execution_count": 5,
   "id": "375f630e",
   "metadata": {},
   "outputs": [
    {
     "data": {
      "text/plain": [
       "mpg             0\n",
       "cylinders       0\n",
       "displacement    0\n",
       "horsepower      0\n",
       "weight          0\n",
       "acceleration    0\n",
       "model year      0\n",
       "origin          0\n",
       "dtype: int64"
      ]
     },
     "execution_count": 5,
     "metadata": {},
     "output_type": "execute_result"
    }
   ],
   "source": [
    "## Check for NA\n",
    "df.isna().sum()"
   ]
  },
  {
   "cell_type": "code",
   "execution_count": 6,
   "id": "8f2a88e7",
   "metadata": {},
   "outputs": [
    {
     "name": "stdout",
     "output_type": "stream",
     "text": [
      "<class 'pandas.core.frame.DataFrame'>\n",
      "RangeIndex: 398 entries, 0 to 397\n",
      "Data columns (total 8 columns):\n",
      " #   Column        Non-Null Count  Dtype  \n",
      "---  ------        --------------  -----  \n",
      " 0   mpg           398 non-null    float64\n",
      " 1   cylinders     398 non-null    int64  \n",
      " 2   displacement  398 non-null    float64\n",
      " 3   horsepower    398 non-null    float64\n",
      " 4   weight        398 non-null    int64  \n",
      " 5   acceleration  398 non-null    float64\n",
      " 6   model year    398 non-null    int64  \n",
      " 7   origin        398 non-null    int64  \n",
      "dtypes: float64(4), int64(4)\n",
      "memory usage: 25.0 KB\n"
     ]
    }
   ],
   "source": [
    "df.info()"
   ]
  },
  {
   "cell_type": "code",
   "execution_count": 7,
   "id": "b89ee145",
   "metadata": {},
   "outputs": [
    {
     "data": {
      "text/plain": [
       "Index(['mpg', 'cylinders', 'displacement', 'horsepower', 'weight',\n",
       "       'acceleration', 'model year', 'origin'],\n",
       "      dtype='object')"
      ]
     },
     "execution_count": 7,
     "metadata": {},
     "output_type": "execute_result"
    }
   ],
   "source": [
    "df.columns"
   ]
  },
  {
   "cell_type": "code",
   "execution_count": 8,
   "id": "f7a11a9e",
   "metadata": {},
   "outputs": [
    {
     "data": {
      "text/html": [
       "<div>\n",
       "<style scoped>\n",
       "    .dataframe tbody tr th:only-of-type {\n",
       "        vertical-align: middle;\n",
       "    }\n",
       "\n",
       "    .dataframe tbody tr th {\n",
       "        vertical-align: top;\n",
       "    }\n",
       "\n",
       "    .dataframe thead th {\n",
       "        text-align: right;\n",
       "    }\n",
       "</style>\n",
       "<table border=\"1\" class=\"dataframe\">\n",
       "  <thead>\n",
       "    <tr style=\"text-align: right;\">\n",
       "      <th></th>\n",
       "      <th>mpg</th>\n",
       "      <th>cylinders</th>\n",
       "      <th>displacement</th>\n",
       "      <th>horsepower</th>\n",
       "      <th>weight</th>\n",
       "      <th>acceleration</th>\n",
       "      <th>model year</th>\n",
       "      <th>origin</th>\n",
       "    </tr>\n",
       "  </thead>\n",
       "  <tbody>\n",
       "    <tr>\n",
       "      <th>0</th>\n",
       "      <td>18.0</td>\n",
       "      <td>1.498191</td>\n",
       "      <td>1.090604</td>\n",
       "      <td>0.673118</td>\n",
       "      <td>0.630870</td>\n",
       "      <td>-1.295498</td>\n",
       "      <td>-1.627426</td>\n",
       "      <td>-0.715145</td>\n",
       "    </tr>\n",
       "    <tr>\n",
       "      <th>1</th>\n",
       "      <td>15.0</td>\n",
       "      <td>1.498191</td>\n",
       "      <td>1.503514</td>\n",
       "      <td>1.589958</td>\n",
       "      <td>0.854333</td>\n",
       "      <td>-1.477038</td>\n",
       "      <td>-1.627426</td>\n",
       "      <td>-0.715145</td>\n",
       "    </tr>\n",
       "    <tr>\n",
       "      <th>2</th>\n",
       "      <td>18.0</td>\n",
       "      <td>1.498191</td>\n",
       "      <td>1.196232</td>\n",
       "      <td>1.197027</td>\n",
       "      <td>0.550470</td>\n",
       "      <td>-1.658577</td>\n",
       "      <td>-1.627426</td>\n",
       "      <td>-0.715145</td>\n",
       "    </tr>\n",
       "    <tr>\n",
       "      <th>3</th>\n",
       "      <td>16.0</td>\n",
       "      <td>1.498191</td>\n",
       "      <td>1.061796</td>\n",
       "      <td>1.197027</td>\n",
       "      <td>0.546923</td>\n",
       "      <td>-1.295498</td>\n",
       "      <td>-1.627426</td>\n",
       "      <td>-0.715145</td>\n",
       "    </tr>\n",
       "    <tr>\n",
       "      <th>4</th>\n",
       "      <td>17.0</td>\n",
       "      <td>1.498191</td>\n",
       "      <td>1.042591</td>\n",
       "      <td>0.935072</td>\n",
       "      <td>0.565841</td>\n",
       "      <td>-1.840117</td>\n",
       "      <td>-1.627426</td>\n",
       "      <td>-0.715145</td>\n",
       "    </tr>\n",
       "  </tbody>\n",
       "</table>\n",
       "</div>"
      ],
      "text/plain": [
       "    mpg  cylinders  displacement  horsepower    weight  acceleration  \\\n",
       "0  18.0   1.498191      1.090604    0.673118  0.630870     -1.295498   \n",
       "1  15.0   1.498191      1.503514    1.589958  0.854333     -1.477038   \n",
       "2  18.0   1.498191      1.196232    1.197027  0.550470     -1.658577   \n",
       "3  16.0   1.498191      1.061796    1.197027  0.546923     -1.295498   \n",
       "4  17.0   1.498191      1.042591    0.935072  0.565841     -1.840117   \n",
       "\n",
       "   model year    origin  \n",
       "0   -1.627426 -0.715145  \n",
       "1   -1.627426 -0.715145  \n",
       "2   -1.627426 -0.715145  \n",
       "3   -1.627426 -0.715145  \n",
       "4   -1.627426 -0.715145  "
      ]
     },
     "execution_count": 8,
     "metadata": {},
     "output_type": "execute_result"
    }
   ],
   "source": [
    "## Standardizing the data\n",
    "scaler = StandardScaler()\n",
    "df[['cylinders', 'displacement', 'horsepower',\n",
    "     'weight', 'acceleration', 'model year', 'origin']] = scaler.fit_transform(df[['cylinders',\n",
    "                                                                              'displacement',\n",
    "                                                                              'horsepower',\n",
    "                                                                              'weight',\n",
    "                                                                              'acceleration',\n",
    "                                                                              'model year', 'origin']])\n",
    "\n",
    "df.head()"
   ]
  },
  {
   "cell_type": "code",
   "execution_count": 9,
   "id": "60f3b8d7",
   "metadata": {},
   "outputs": [],
   "source": [
    "## Getting X and Y\n",
    "x = df.drop('mpg', axis = 1)\n",
    "y = df['mpg']"
   ]
  },
  {
   "cell_type": "code",
   "execution_count": 10,
   "id": "7e10263e",
   "metadata": {},
   "outputs": [],
   "source": [
    "## Train Test Split - Test 20%\n",
    "X_train, X_test, y_train, y_test = train_test_split(x, y, test_size = 0.2)"
   ]
  },
  {
   "cell_type": "code",
   "execution_count": 11,
   "id": "62438857",
   "metadata": {
    "scrolled": true
   },
   "outputs": [
    {
     "name": "stdout",
     "output_type": "stream",
     "text": [
      "Lasso Regression: R^2 score on training set 78.2029699424824\n",
      "Lasso Regression: R^2 score on test set 76.84830004927574\n"
     ]
    }
   ],
   "source": [
    "## Create Lasso Regression\n",
    "reg = Lasso(alpha=1).fit(X_train, y_train)\n",
    "\n",
    "print('Lasso Regression: R^2 score on training set', reg.score(X_train, y_train)*100)\n",
    "print('Lasso Regression: R^2 score on test set', reg.score(X_test, y_test)*100)"
   ]
  },
  {
   "cell_type": "code",
   "execution_count": 12,
   "id": "a91292d3",
   "metadata": {},
   "outputs": [],
   "source": [
    "## Train Test Split - Test 80%\n",
    "X_train2, X_test2, y_train2, y_test2 = train_test_split(x, y, test_size = 0.8)"
   ]
  },
  {
   "cell_type": "code",
   "execution_count": 13,
   "id": "b5df30d2",
   "metadata": {},
   "outputs": [
    {
     "name": "stdout",
     "output_type": "stream",
     "text": [
      "Lasso Regression: R^2 score on training set 75.96682848638284\n",
      "Lasso Regression: R^2 score on test set 75.39293904958164\n"
     ]
    }
   ],
   "source": [
    "## Create Lasso Regression\n",
    "reg2 = Lasso(alpha=1).fit(X_train2, y_train2)\n",
    "\n",
    "print('Lasso Regression: R^2 score on training set', reg2.score(X_train2, y_train2)*100)\n",
    "print('Lasso Regression: R^2 score on test set', reg2.score(X_test2, y_test2)*100)"
   ]
  },
  {
   "cell_type": "markdown",
   "id": "459b6adf",
   "metadata": {},
   "source": [
    "### Alpha Tunning\n",
    "\n",
    "**For the above model, tune ‘alpha’ using the Akaike Information Criterion (AIC) and Bayesian Information Criterion (BIC) to find the optimum value for it. Explain how that value for alpha was chosen. Build a model using that value of alpha. [Hint: Have a look at sklearn’s Lasso model with Lars]**"
   ]
  },
  {
   "cell_type": "code",
   "execution_count": 14,
   "id": "1676e59c",
   "metadata": {},
   "outputs": [],
   "source": [
    "## Lasso Lars AIC - Test 20%\n",
    "lasso_lars_aic = LassoLarsIC(criterion = \"aic\", normalize = False).fit(X_train, y_train)\n",
    "lasso_lars_bic = LassoLarsIC(criterion = \"bic\", normalize = False).fit(X_train, y_train)"
   ]
  },
  {
   "cell_type": "code",
   "execution_count": 15,
   "id": "b2b06d08",
   "metadata": {},
   "outputs": [],
   "source": [
    "## Store AIC metric for each alpha\n",
    "results = pd.DataFrame(\n",
    "    {\n",
    "        \"alphas\": lasso_lars_aic.alphas_,\n",
    "        \"AIC criterion\": lasso_lars_aic.criterion_,\n",
    "        \"BIC criterion\": lasso_lars_bic.criterion_\n",
    "    }\n",
    ").set_index(\"alphas\")\n",
    "alpha_aic = lasso_lars_aic.alpha_\n",
    "alpha_bic = lasso_lars_bic.alpha_"
   ]
  },
  {
   "cell_type": "code",
   "execution_count": 16,
   "id": "ec8cea99",
   "metadata": {},
   "outputs": [
    {
     "data": {
      "text/html": [
       "<style type=\"text/css\">\n",
       "#T_a2946_row4_col0, #T_a2946_row4_col1 {\n",
       "  font-weight: bold;\n",
       "}\n",
       "</style>\n",
       "<table id=\"T_a2946_\">\n",
       "  <thead>\n",
       "    <tr>\n",
       "      <th class=\"blank level0\" >&nbsp;</th>\n",
       "      <th class=\"col_heading level0 col0\" >AIC criterion</th>\n",
       "      <th class=\"col_heading level0 col1\" >BIC criterion</th>\n",
       "    </tr>\n",
       "    <tr>\n",
       "      <th class=\"index_name level0\" >alphas</th>\n",
       "      <th class=\"blank col0\" >&nbsp;</th>\n",
       "      <th class=\"blank col1\" >&nbsp;</th>\n",
       "    </tr>\n",
       "  </thead>\n",
       "  <tbody>\n",
       "    <tr>\n",
       "      <th id=\"T_a2946_level0_row0\" class=\"row_heading level0 row0\" >6.380752659898435</th>\n",
       "      <td id=\"T_a2946_row0_col0\" class=\"data row0 col0\" >318.000000</td>\n",
       "      <td id=\"T_a2946_row0_col1\" class=\"data row0 col1\" >318.000000</td>\n",
       "    </tr>\n",
       "    <tr>\n",
       "      <th id=\"T_a2946_level0_row1\" class=\"row_heading level0 row1\" >3.7729992782557433</th>\n",
       "      <td id=\"T_a2946_row1_col0\" class=\"data row1 col0\" >175.341754</td>\n",
       "      <td id=\"T_a2946_row1_col1\" class=\"data row1 col1\" >179.103805</td>\n",
       "    </tr>\n",
       "    <tr>\n",
       "      <th id=\"T_a2946_level0_row2\" class=\"row_heading level0 row2\" >3.5016593808575167</th>\n",
       "      <td id=\"T_a2946_row2_col0\" class=\"data row2 col0\" >166.002119</td>\n",
       "      <td id=\"T_a2946_row2_col1\" class=\"data row2 col1\" >173.526222</td>\n",
       "    </tr>\n",
       "    <tr>\n",
       "      <th id=\"T_a2946_level0_row3\" class=\"row_heading level0 row3\" >1.3159894743293548</th>\n",
       "      <td id=\"T_a2946_row3_col0\" class=\"data row3 col0\" >82.247788</td>\n",
       "      <td id=\"T_a2946_row3_col1\" class=\"data row3 col1\" >93.533942</td>\n",
       "    </tr>\n",
       "    <tr>\n",
       "      <th id=\"T_a2946_level0_row4\" class=\"row_heading level0 row4\" >0.29550136158790596</th>\n",
       "      <td id=\"T_a2946_row4_col0\" class=\"data row4 col0\" >68.669505</td>\n",
       "      <td id=\"T_a2946_row4_col1\" class=\"data row4 col1\" >83.717710</td>\n",
       "    </tr>\n",
       "    <tr>\n",
       "      <th id=\"T_a2946_level0_row5\" class=\"row_heading level0 row5\" >0.06231785726160607</th>\n",
       "      <td id=\"T_a2946_row5_col0\" class=\"data row5 col0\" >69.677409</td>\n",
       "      <td id=\"T_a2946_row5_col1\" class=\"data row5 col1\" >88.487666</td>\n",
       "    </tr>\n",
       "    <tr>\n",
       "      <th id=\"T_a2946_level0_row6\" class=\"row_heading level0 row6\" >0.051577445170884514</th>\n",
       "      <td id=\"T_a2946_row6_col0\" class=\"data row6 col0\" >71.300807</td>\n",
       "      <td id=\"T_a2946_row6_col1\" class=\"data row6 col1\" >93.873115</td>\n",
       "    </tr>\n",
       "    <tr>\n",
       "      <th id=\"T_a2946_level0_row7\" class=\"row_heading level0 row7\" >0.0</th>\n",
       "      <td id=\"T_a2946_row7_col0\" class=\"data row7 col0\" >71.909612</td>\n",
       "      <td id=\"T_a2946_row7_col1\" class=\"data row7 col1\" >98.243972</td>\n",
       "    </tr>\n",
       "  </tbody>\n",
       "</table>\n"
      ],
      "text/plain": [
       "<pandas.io.formats.style.Styler at 0x7fcd9d676c10>"
      ]
     },
     "execution_count": 16,
     "metadata": {},
     "output_type": "execute_result"
    }
   ],
   "source": [
    "## Check which value leads to minimum AIC\n",
    "def highlight_min(x):\n",
    "    x_min = x.min()\n",
    "    return [\"font-weight: bold\" if v == x_min else \"\" for v in x]\n",
    "\n",
    "results.style.apply(highlight_min)"
   ]
  },
  {
   "cell_type": "code",
   "execution_count": 17,
   "id": "8e874d1a",
   "metadata": {},
   "outputs": [
    {
     "name": "stdout",
     "output_type": "stream",
     "text": [
      "Lasso Regression: R^2 score on training set 81.29860980476292\n",
      "Lasso Regression: R^2 score on test set 82.69425008456777\n"
     ]
    }
   ],
   "source": [
    "## Create Lasso Regression with Optimum Alpha\n",
    "reg_opt = Lasso(alpha=0.05669997460159893)\n",
    "reg_opt.fit(X_train, y_train)\n",
    "\n",
    "print('Lasso Regression: R^2 score on training set', reg_opt.score(X_train, y_train)*100)\n",
    "print('Lasso Regression: R^2 score on test set', reg_opt.score(X_test, y_test)*100)"
   ]
  },
  {
   "cell_type": "markdown",
   "id": "dfb940af",
   "metadata": {},
   "source": [
    "We used a 3 step approach to select the alpha:\n",
    "\n",
    "1. We used LassoLarsIC to check the AIC and BIC for different alphas. \n",
    "2. We ploted the AIC and BIC values calculated for models with different alphas.\n",
    "3. We selected the alpha value related to the lowest AIC and BIC"
   ]
  },
  {
   "cell_type": "markdown",
   "id": "1fe56612",
   "metadata": {},
   "source": [
    "## Linear Regression with CV\n",
    "\n",
    "**Build a simple regression model using 10-fold cross validation for the same data. Write your observations about the R-squared values for the models and their predictions.**"
   ]
  },
  {
   "cell_type": "code",
   "execution_count": 18,
   "id": "83ab6ea9",
   "metadata": {},
   "outputs": [
    {
     "name": "stdout",
     "output_type": "stream",
     "text": [
      "Linear Regression: R^2 score of all CV models [87.45742632 84.94546423 81.75258875 83.40023347 74.15918327 80.59028059\n",
      " 82.38334506 78.63852255 77.5818874  79.60073107]\n",
      "Linear Regression: mean R^2 score of CV models 81.05096627069838\n"
     ]
    }
   ],
   "source": [
    "## Define CV method to use\n",
    "cv = KFold(n_splits = 10, random_state = 1, shuffle = True)\n",
    "\n",
    "## Build model\n",
    "lm = LinearRegression().fit(x, y)\n",
    "\n",
    "## Use kfold to evaluate model\n",
    "r2_train = cross_val_score(lm, x, y, scoring='r2', cv = cv)\n",
    "\n",
    "## Model score on test dataset\n",
    "print('Linear Regression: R^2 score of all CV models', r2_train*100)\n",
    "print('Linear Regression: mean R^2 score of CV models', r2_train.mean()*100)"
   ]
  },
  {
   "cell_type": "markdown",
   "id": "4baa14f9",
   "metadata": {},
   "source": [
    "Using 10-fold Cross Validation, we found R2 ranging from 79.60 to 87.46 using the complete data set. The average value was 81.05"
   ]
  },
  {
   "cell_type": "markdown",
   "id": "c578c3fc",
   "metadata": {},
   "source": [
    "## Information Criteria Evaluation\n",
    "\n",
    "**Calculate AIC, AICc (i.e. Corrected AIC) and BIC for the models you built in question 1 and question 2. According to each of the measures, which is the better model? Is BIC always greater than AIC? Please explain. Compare the AICs with the corresponding corrected AICs.**"
   ]
  },
  {
   "cell_type": "code",
   "execution_count": 19,
   "id": "171dcf09",
   "metadata": {},
   "outputs": [
    {
     "name": "stdout",
     "output_type": "stream",
     "text": [
      "Model 1a: AIC: 1047.510 AICc: 1047.797 BIC: 1075.415\n",
      "Model 1b: AIC: 1090.150 AICc: 1090.437 BIC: 1118.055\n",
      "Model 2: AIC: 974.445 AICc: 974.732 BIC: 1002.350\n"
     ]
    }
   ],
   "source": [
    "## AIC\n",
    "def calculate_aic(n, mse, num_params):\n",
    "    aic = n * log(mse) + 2 * num_params\n",
    "    return aic\n",
    "\n",
    "def calculate_bic(n, mse, num_params):\n",
    "    bic = n * log(mse) + num_params * log(n)\n",
    "    return bic\n",
    "\n",
    "def calculate_aicc(n, mse, num_params):\n",
    "    aicc = n * log(mse) + 2 * num_params + (2 * num_params * num_params + 2 * num_params)/(n-num_params - 1)\n",
    "    return aicc\n",
    "\n",
    "## Num Params\n",
    "num_params1a = len(reg.coef_)\n",
    "num_params1b = len(reg2.coef_)\n",
    "num_params2 = len(reg_opt.coef_)\n",
    "\n",
    "## Predict training set\n",
    "yhat1a = reg.predict(x)\n",
    "yhat1b = reg2.predict(x)\n",
    "yhat2 = reg_opt.predict(x)\n",
    "\n",
    "## Calculate the error\n",
    "mse1a = mean_squared_error(y, yhat1a)\n",
    "mse1b = mean_squared_error(y, yhat1b)\n",
    "mse2 = mean_squared_error(y, yhat2)\n",
    "\n",
    "## Calculate the AIC, AICc, BIC\n",
    "aic1a = calculate_aic(len(y), mse1a, num_params1a)\n",
    "aic1b = calculate_aic(len(y), mse1b, num_params1b)\n",
    "aic2 = calculate_aic(len(y), mse2, num_params2)\n",
    "\n",
    "aicc1a = calculate_aicc(len(y), mse1a, num_params1a)\n",
    "aicc1b = calculate_aicc(len(y), mse1b, num_params1b)\n",
    "aicc2 = calculate_aicc(len(y), mse2, num_params2)\n",
    "\n",
    "bic1a = calculate_bic(len(y), mse1a, num_params1a)\n",
    "bic1b = calculate_bic(len(y), mse1b, num_params1b)\n",
    "bic2 = calculate_bic(len(y), mse2, num_params2)\n",
    "\n",
    "print('Model 1a: AIC: %.3f' % aic1a, 'AICc: %.3f' %aicc1a, 'BIC: %.3f' %bic1a)\n",
    "print('Model 1b: AIC: %.3f' % aic1b, 'AICc: %.3f' %aicc1b, 'BIC: %.3f' %bic1b)\n",
    "print('Model 2: AIC: %.3f' % aic2, 'AICc: %.3f' %aicc2, 'BIC: %.3f' %bic2)"
   ]
  },
  {
   "cell_type": "markdown",
   "id": "e8e4f222",
   "metadata": {},
   "source": [
    "We can see that all criteria used AIC, AICc, and BIC for model 2 are smaller then those criteria used for model 1a and 1b. Given that, we can conclude that the Lasso Regression with tunned alpha presented a better fit.\n",
    "\n",
    "The difference in BIC and AIC formula is the factor that multiplies the number of parameters used in the model. \n",
    "\n",
    "- bic = n * log(mse) + num_params * log(n)\n",
    "- aic = n * log(mse) + 2 * num_params\n",
    "\n",
    "Log(100) equals to 2. That means that BIC will be higher than AIC for every model that was trained using a dataset with more than 100 rows.\n",
    "\n",
    "The AICc in all models was slightly higher than the AIC."
   ]
  },
  {
   "cell_type": "markdown",
   "id": "7dca9e20",
   "metadata": {},
   "source": [
    "## RCT\n",
    "\n",
    "**What are Randomized Control Trials: A/B Tests? What is its significance? Elaborate. Explain methods used in analyzing the RCT data?**"
   ]
  },
  {
   "cell_type": "markdown",
   "id": "0eaa2025",
   "metadata": {},
   "source": [
    "At its fundamental, the A/B test is a methodology used to measure the effects of a given change among two groups: a group with no difference (control) and a group with the difference (treatment).\n",
    "\n",
    "In the context of the A/B test, statistical significance is the threshold used to decide whether an effect was caused by the treatment or only by chance. For example, when running a test using a 5% significance level, we assume that results with a p-value lesser than 0.05 are rare, occurring most likely by the effects of the treatment. On the other hand, results with a p-value greater than 0.05 are not that rare, so there is no significant treatment effect.\n",
    "\n",
    "We have three main methods used in analyzing the RCT data:\n",
    "\n",
    "1. Longitudinal analysis of covariance: we analyze the outcome variable at different times, adjusting it for the baseline value of the outcome.\n",
    "\n",
    "2. Repeated measures: instead of adjusting for the baseline, in the repeated measures, we use the outcome of all three values (baseline, t1, and t2) as outcomes of the analysis.\n",
    "\n",
    "3. Analysis of changes: in this method, we analyze not the values themselves but the changes between first measurement and baseline and second measurements and baseline."
   ]
  }
 ],
 "metadata": {
  "kernelspec": {
   "display_name": "Python 3 (ipykernel)",
   "language": "python",
   "name": "python3"
  },
  "language_info": {
   "codemirror_mode": {
    "name": "ipython",
    "version": 3
   },
   "file_extension": ".py",
   "mimetype": "text/x-python",
   "name": "python",
   "nbconvert_exporter": "python",
   "pygments_lexer": "ipython3",
   "version": "3.9.7"
  }
 },
 "nbformat": 4,
 "nbformat_minor": 5
}
